{
 "cells": [
  {
   "cell_type": "code",
   "execution_count": 1,
   "metadata": {
    "collapsed": true
   },
   "outputs": [],
   "source": [
    "from functions import *\n",
    "from algorithms.trust_region import trust_region\n",
    "from algorithms.line_search import quasi_newton as qn\n",
    "from algorithms.line_search import steepest_descent as sd"
   ]
  },
  {
   "cell_type": "code",
   "execution_count": 2,
   "metadata": {},
   "outputs": [
    {
     "name": "stdout",
     "output_type": "stream",
     "text": [
      "Result in 40912 iterations:\n('(x, f(x)):', array([0.98540492, 0.9708907 ]), 0.0002147629120724675)\n"
     ]
    }
   ],
   "source": [
    "x = np.array([2, 1])\n",
    "x, fx, iterations = qn.quasi_newton(f1, g1, h1, x, c=.1, r=.9, alpha0=.2, \n",
    "                                    backtrack_selection=True, \n",
    "                                    repair_hessian=True, \n",
    "                                    hessian_method=qn.HessianMethod.BFGS)\n",
    "\n",
    "print('Result in %d iterations:' % iterations)\n",
    "print('(x, f(x)):', x, fx)"
   ]
  }
 ],
 "metadata": {
  "kernelspec": {
   "display_name": "Python 2",
   "language": "python",
   "name": "python2"
  },
  "language_info": {
   "codemirror_mode": {
    "name": "ipython",
    "version": 2
   },
   "file_extension": ".py",
   "mimetype": "text/x-python",
   "name": "python",
   "nbconvert_exporter": "python",
   "pygments_lexer": "ipython2",
   "version": "2.7.6"
  }
 },
 "nbformat": 4,
 "nbformat_minor": 0
}
